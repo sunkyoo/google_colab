{
  "nbformat": 4,
  "nbformat_minor": 0,
  "metadata": {
    "colab": {
      "name": "mnist_cnn.ipynb",
      "provenance": [],
      "collapsed_sections": [],
      "authorship_tag": "ABX9TyMsd6rDrNpIVGKVaO/FS5nH",
      "include_colab_link": true
    },
    "kernelspec": {
      "name": "python3",
      "display_name": "Python 3"
    }
  },
  "cells": [
    {
      "cell_type": "markdown",
      "metadata": {
        "id": "view-in-github",
        "colab_type": "text"
      },
      "source": [
        "<a href=\"https://colab.research.google.com/github/sunkyoo/google_colab/blob/master/mnist_cnn.ipynb\" target=\"_parent\"><img src=\"https://colab.research.google.com/assets/colab-badge.svg\" alt=\"Open In Colab\"/></a>"
      ]
    },
    {
      "cell_type": "markdown",
      "metadata": {
        "id": "pkQzbnzb7shh",
        "colab_type": "text"
      },
      "source": [
        "## CNN을 이용한 MNIST 학습 및 PB 파일 생성"
      ]
    },
    {
      "cell_type": "code",
      "metadata": {
        "id": "urza9XpH7W_x",
        "colab_type": "code",
        "colab": {}
      },
      "source": [
        "import tensorflow as tf\n",
        "from tensorflow.examples.tutorials.mnist import input_data\n",
        "from tensorflow.python.framework import graph_util\n",
        "from tensorflow.python.platform import gfile\n",
        "from google.colab import files"
      ],
      "execution_count": 0,
      "outputs": []
    },
    {
      "cell_type": "markdown",
      "metadata": {
        "id": "jihlaElK723c",
        "colab_type": "text"
      },
      "source": [
        "MNIST 데이터셋 준비"
      ]
    },
    {
      "cell_type": "code",
      "metadata": {
        "id": "cWqsDyfb7cJy",
        "colab_type": "code",
        "outputId": "c34b228a-16c6-41ac-eae6-d35a201daa1b",
        "colab": {
          "base_uri": "https://localhost:8080/",
          "height": 521
        }
      },
      "source": [
        "mnist = input_data.read_data_sets(\"./MNIST_data/\", one_hot=True)"
      ],
      "execution_count": 0,
      "outputs": [
        {
          "output_type": "stream",
          "text": [
            "WARNING:tensorflow:From <ipython-input-2-ef241aa9aaf8>:1: read_data_sets (from tensorflow.contrib.learn.python.learn.datasets.mnist) is deprecated and will be removed in a future version.\n",
            "Instructions for updating:\n",
            "Please use alternatives such as official/mnist/dataset.py from tensorflow/models.\n",
            "WARNING:tensorflow:From /usr/local/lib/python3.6/dist-packages/tensorflow_core/contrib/learn/python/learn/datasets/mnist.py:260: maybe_download (from tensorflow.contrib.learn.python.learn.datasets.base) is deprecated and will be removed in a future version.\n",
            "Instructions for updating:\n",
            "Please write your own downloading logic.\n",
            "WARNING:tensorflow:From /usr/local/lib/python3.6/dist-packages/tensorflow_core/contrib/learn/python/learn/datasets/base.py:252: _internal_retry.<locals>.wrap.<locals>.wrapped_fn (from tensorflow.contrib.learn.python.learn.datasets.base) is deprecated and will be removed in a future version.\n",
            "Instructions for updating:\n",
            "Please use urllib or similar directly.\n",
            "Successfully downloaded train-images-idx3-ubyte.gz 9912422 bytes.\n",
            "WARNING:tensorflow:From /usr/local/lib/python3.6/dist-packages/tensorflow_core/contrib/learn/python/learn/datasets/mnist.py:262: extract_images (from tensorflow.contrib.learn.python.learn.datasets.mnist) is deprecated and will be removed in a future version.\n",
            "Instructions for updating:\n",
            "Please use tf.data to implement this functionality.\n",
            "Extracting ./MNIST_data/train-images-idx3-ubyte.gz\n",
            "Successfully downloaded train-labels-idx1-ubyte.gz 28881 bytes.\n",
            "WARNING:tensorflow:From /usr/local/lib/python3.6/dist-packages/tensorflow_core/contrib/learn/python/learn/datasets/mnist.py:267: extract_labels (from tensorflow.contrib.learn.python.learn.datasets.mnist) is deprecated and will be removed in a future version.\n",
            "Instructions for updating:\n",
            "Please use tf.data to implement this functionality.\n",
            "Extracting ./MNIST_data/train-labels-idx1-ubyte.gz\n",
            "WARNING:tensorflow:From /usr/local/lib/python3.6/dist-packages/tensorflow_core/contrib/learn/python/learn/datasets/mnist.py:110: dense_to_one_hot (from tensorflow.contrib.learn.python.learn.datasets.mnist) is deprecated and will be removed in a future version.\n",
            "Instructions for updating:\n",
            "Please use tf.one_hot on tensors.\n",
            "Successfully downloaded t10k-images-idx3-ubyte.gz 1648877 bytes.\n",
            "Extracting ./MNIST_data/t10k-images-idx3-ubyte.gz\n",
            "Successfully downloaded t10k-labels-idx1-ubyte.gz 4542 bytes.\n",
            "Extracting ./MNIST_data/t10k-labels-idx1-ubyte.gz\n",
            "WARNING:tensorflow:From /usr/local/lib/python3.6/dist-packages/tensorflow_core/contrib/learn/python/learn/datasets/mnist.py:290: DataSet.__init__ (from tensorflow.contrib.learn.python.learn.datasets.mnist) is deprecated and will be removed in a future version.\n",
            "Instructions for updating:\n",
            "Please use alternatives such as official/mnist/dataset.py from tensorflow/models.\n"
          ],
          "name": "stdout"
        }
      ]
    },
    {
      "cell_type": "markdown",
      "metadata": {
        "id": "AX7X-q2i7pof",
        "colab_type": "text"
      },
      "source": [
        "hyper parameters"
      ]
    },
    {
      "cell_type": "code",
      "metadata": {
        "id": "4QZbKIvr7nq2",
        "colab_type": "code",
        "colab": {}
      },
      "source": [
        "learning_rate = 0.001\n",
        "training_epochs = 20\n",
        "batch_size = 100"
      ],
      "execution_count": 0,
      "outputs": []
    },
    {
      "cell_type": "markdown",
      "metadata": {
        "id": "VJc4oYRf76ZB",
        "colab_type": "text"
      },
      "source": [
        "Model configuration"
      ]
    },
    {
      "cell_type": "code",
      "metadata": {
        "id": "VZ_cm7mm7nc4",
        "colab_type": "code",
        "outputId": "2721ccf1-efbd-4902-9a6f-ca26c99ccdbc",
        "colab": {
          "base_uri": "https://localhost:8080/",
          "height": 278
        }
      },
      "source": [
        "X = tf.placeholder(tf.float32, [None, 28, 28, 1], name='data')\n",
        "Y = tf.placeholder(tf.float32, [None, 10])\n",
        "\n",
        "conv1 = tf.layers.conv2d(X, 32, [3, 3], padding=\"same\", activation=tf.nn.relu)\n",
        "pool1 = tf.layers.max_pooling2d(conv1, [2, 2], strides=2, padding=\"same\")\n",
        "\n",
        "conv2 = tf.layers.conv2d(pool1, 64, [3, 3], padding=\"same\", activation=tf.nn.relu)\n",
        "pool2 = tf.layers.max_pooling2d(conv2, [2, 2], strides=2, padding=\"same\")\n",
        "\n",
        "flat3 = tf.contrib.layers.flatten(pool2)\n",
        "dense3 = tf.layers.dense(flat3, 256, activation=tf.nn.relu)\n",
        "\n",
        "logits = tf.layers.dense(dense3, 10, activation=None)\n",
        "final_tensor = tf.nn.softmax(logits, name='prob')\n",
        "\n",
        "cost = tf.reduce_mean(tf.nn.softmax_cross_entropy_with_logits_v2(labels=Y, logits=logits))\n",
        "optimizer = tf.train.AdamOptimizer(learning_rate).minimize(cost)"
      ],
      "execution_count": 0,
      "outputs": [
        {
          "output_type": "stream",
          "text": [
            "WARNING:tensorflow:From <ipython-input-4-da8b73c20ab5>:4: conv2d (from tensorflow.python.layers.convolutional) is deprecated and will be removed in a future version.\n",
            "Instructions for updating:\n",
            "Use `tf.keras.layers.Conv2D` instead.\n",
            "WARNING:tensorflow:From /usr/local/lib/python3.6/dist-packages/tensorflow_core/python/layers/convolutional.py:424: Layer.apply (from tensorflow.python.keras.engine.base_layer) is deprecated and will be removed in a future version.\n",
            "Instructions for updating:\n",
            "Please use `layer.__call__` method instead.\n",
            "WARNING:tensorflow:From <ipython-input-4-da8b73c20ab5>:5: max_pooling2d (from tensorflow.python.layers.pooling) is deprecated and will be removed in a future version.\n",
            "Instructions for updating:\n",
            "Use keras.layers.MaxPooling2D instead.\n",
            "WARNING:tensorflow:From /usr/local/lib/python3.6/dist-packages/tensorflow_core/contrib/layers/python/layers/layers.py:1634: flatten (from tensorflow.python.layers.core) is deprecated and will be removed in a future version.\n",
            "Instructions for updating:\n",
            "Use keras.layers.flatten instead.\n",
            "WARNING:tensorflow:From <ipython-input-4-da8b73c20ab5>:11: dense (from tensorflow.python.layers.core) is deprecated and will be removed in a future version.\n",
            "Instructions for updating:\n",
            "Use keras.layers.Dense instead.\n"
          ],
          "name": "stdout"
        }
      ]
    },
    {
      "cell_type": "markdown",
      "metadata": {
        "id": "QWPP8nrY8CpC",
        "colab_type": "text"
      },
      "source": [
        "Training"
      ]
    },
    {
      "cell_type": "code",
      "metadata": {
        "id": "9CLTILlS7nZs",
        "colab_type": "code",
        "outputId": "20e0ffb7-5998-43a4-d25c-9646509be7ad",
        "colab": {
          "base_uri": "https://localhost:8080/",
          "height": 399
        }
      },
      "source": [
        "sess = tf.Session()\n",
        "sess.run(tf.global_variables_initializer())\n",
        "total_batch = int(mnist.train.num_examples / batch_size)\n",
        "\n",
        "print('Start learning!')\n",
        "for epoch in range(training_epochs):\n",
        "    total_cost = 0\n",
        "\n",
        "    for i in range(total_batch):\n",
        "        batch_xs, batch_ys = mnist.train.next_batch(batch_size)\n",
        "        batch_xs = batch_xs.reshape(-1, 28, 28, 1)\n",
        "        _, cost_val = sess.run([optimizer, cost], feed_dict={X: batch_xs, Y: batch_ys})\n",
        "        total_cost += cost_val\n",
        "\n",
        "    print('Epoch:', '%04d' % (epoch + 1), 'Avg. cost = ',\n",
        "            '{:.4f}'.format(total_cost/total_batch))\n",
        "\n",
        "print('Learning finished!')"
      ],
      "execution_count": 0,
      "outputs": [
        {
          "output_type": "stream",
          "text": [
            "Start learning!\n",
            "Epoch: 0001 Avg. cost =  0.1752\n",
            "Epoch: 0002 Avg. cost =  0.0479\n",
            "Epoch: 0003 Avg. cost =  0.0314\n",
            "Epoch: 0004 Avg. cost =  0.0226\n",
            "Epoch: 0005 Avg. cost =  0.0169\n",
            "Epoch: 0006 Avg. cost =  0.0129\n",
            "Epoch: 0007 Avg. cost =  0.0099\n",
            "Epoch: 0008 Avg. cost =  0.0088\n",
            "Epoch: 0009 Avg. cost =  0.0094\n",
            "Epoch: 0010 Avg. cost =  0.0051\n",
            "Epoch: 0011 Avg. cost =  0.0072\n",
            "Epoch: 0012 Avg. cost =  0.0055\n",
            "Epoch: 0013 Avg. cost =  0.0034\n",
            "Epoch: 0014 Avg. cost =  0.0059\n",
            "Epoch: 0015 Avg. cost =  0.0035\n",
            "Epoch: 0016 Avg. cost =  0.0036\n",
            "Epoch: 0017 Avg. cost =  0.0041\n",
            "Epoch: 0018 Avg. cost =  0.0026\n",
            "Epoch: 0019 Avg. cost =  0.0034\n",
            "Epoch: 0020 Avg. cost =  0.0028\n",
            "Learning finished!\n"
          ],
          "name": "stdout"
        }
      ]
    },
    {
      "cell_type": "markdown",
      "metadata": {
        "id": "Q_9kYEuw8VAr",
        "colab_type": "text"
      },
      "source": [
        "Freeze variables and save pb file"
      ]
    },
    {
      "cell_type": "code",
      "metadata": {
        "id": "lWbNwqWH7nWn",
        "colab_type": "code",
        "outputId": "a9a31886-b05c-4012-c09f-9eb58101c01f",
        "colab": {
          "base_uri": "https://localhost:8080/",
          "height": 225
        }
      },
      "source": [
        "output_graph_def = graph_util.convert_variables_to_constants(sess, sess.graph_def, ['prob'])\n",
        "with gfile.FastGFile('./mnist_cnn.pb', 'wb') as f:\n",
        "    f.write(output_graph_def.SerializeToString())\n",
        "\n",
        "print('Save done!')"
      ],
      "execution_count": 0,
      "outputs": [
        {
          "output_type": "stream",
          "text": [
            "WARNING:tensorflow:From <ipython-input-7-9b6e865e2dfe>:1: convert_variables_to_constants (from tensorflow.python.framework.graph_util_impl) is deprecated and will be removed in a future version.\n",
            "Instructions for updating:\n",
            "Use `tf.compat.v1.graph_util.convert_variables_to_constants`\n",
            "WARNING:tensorflow:From /usr/local/lib/python3.6/dist-packages/tensorflow_core/python/framework/graph_util_impl.py:277: extract_sub_graph (from tensorflow.python.framework.graph_util_impl) is deprecated and will be removed in a future version.\n",
            "Instructions for updating:\n",
            "Use `tf.compat.v1.graph_util.extract_sub_graph`\n",
            "INFO:tensorflow:Froze 8 variables.\n",
            "INFO:tensorflow:Converted 8 variables to const ops.\n",
            "WARNING:tensorflow:From <ipython-input-7-9b6e865e2dfe>:2: FastGFile.__init__ (from tensorflow.python.platform.gfile) is deprecated and will be removed in a future version.\n",
            "Instructions for updating:\n",
            "Use tf.gfile.GFile.\n",
            "Save done!\n"
          ],
          "name": "stdout"
        }
      ]
    },
    {
      "cell_type": "code",
      "metadata": {
        "id": "2YhJZrhF7l1o",
        "colab_type": "code",
        "colab": {}
      },
      "source": [
        "files.download('mnist_cnn.pb')"
      ],
      "execution_count": 0,
      "outputs": []
    },
    {
      "cell_type": "code",
      "metadata": {
        "id": "DOpzChx4CbHI",
        "colab_type": "code",
        "colab": {}
      },
      "source": [
        ""
      ],
      "execution_count": 0,
      "outputs": []
    }
  ]
}